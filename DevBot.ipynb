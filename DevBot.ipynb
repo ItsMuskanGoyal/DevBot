{
 "cells": [
  {
   "cell_type": "code",
   "execution_count": null,
   "metadata": {},
   "outputs": [],
   "source": [
    "# !pip install discord\n",
    "# !pip install git+https://github.com/huggingface/transformers.git@main \n",
    "# accelerate"
   ]
  },
  {
   "cell_type": "code",
   "execution_count": null,
   "metadata": {},
   "outputs": [],
   "source": [
    "import discord\n",
    "import nest_asyncio\n",
    "from googlesearch import search\n",
    "from bs4 import BeautifulSoup as bs\n",
    "import requests\n",
    "import random\n",
    "\n",
    "# TOKEN = \"MTE1NzM4Mjk2NDg2NzUwMjEwMA.G5jMbD.ujArNMUu30t7Ki2AtvTIl8D5dBv_B4hZAfkHv8\"\n",
    "TOKEN=\"MTE1OTQxNDUzMzkyMDY2MTUyNA.G13X5g.XbjZyZTk6xegMOZP_eHAe_xEqDbWDtjAk-XXNQ\"\n",
    "nest_asyncio.apply()"
   ]
  },
  {
   "cell_type": "code",
   "execution_count": null,
   "metadata": {},
   "outputs": [],
   "source": [
    "from transformers import AutoTokenizer\n",
    "import transformers\n",
    "import torch\n",
    "\n",
    "model = \"codellama/CodeLlama-7b-hf\"\n",
    "\n",
    "tokenizer = AutoTokenizer.from_pretrained(model)\n",
    "pipeline = transformers.pipeline(\n",
    "    \"text-generation\",\n",
    "    model=model,\n",
    "    torch_dtype=torch.float16,\n",
    "    device_map=\"auto\",\n",
    ")"
   ]
  },
  {
   "cell_type": "code",
   "execution_count": null,
   "metadata": {},
   "outputs": [],
   "source": [
    "def codeGeneration(text):\n",
    "  sequences = pipeline(\n",
    "    text,\n",
    "    do_sample=True,\n",
    "    top_k=10,\n",
    "    temperature=0.2,\n",
    "    top_p=0.9,\n",
    "    num_return_sequences=1,\n",
    "    eos_token_id=tokenizer.eos_token_id,\n",
    "    max_length=200,\n",
    "  )\n",
    "  return sequences\n",
    "\n",
    "\n"
   ]
  },
  {
   "cell_type": "code",
   "execution_count": null,
   "metadata": {},
   "outputs": [],
   "source": [
    "class ErrorSolver:\n",
    "    def __init__(self, text):\n",
    "        self.text=text + \" site:stackoverflow.com\"\n",
    "        self.url=[]\n",
    "        self.page=\"\"\n",
    "        self.soup=\"\"\n",
    "        self.answer=\"\"\n",
    "        self.f=\"\"\n",
    "\n",
    "    def get_question(self):\n",
    "        l1=[]\n",
    "        for i in self.url:\n",
    "            l1.append(\" \".join(i.split(\"/\")[-1].split(\"-\")))\n",
    "        return l1\n",
    "\n",
    "    def get_url(self):\n",
    "        for i in search(self.text, tld=\"com\", num=10, stop=5, pause=2):\n",
    "            if \"https://stackoverflow.com/questions/\" in i:\n",
    "                self.url.append(i)\n",
    "                # break\n",
    "        if self.url==\"\":\n",
    "            print(\"No such question found\")\n",
    "            return False\n",
    "        else:\n",
    "            print(\"Question found\")\n",
    "            return True\n",
    "\n",
    "    def get_answer(self,index=0):\n",
    "        self.page=requests.get(self.url[index])\n",
    "        self.soup=bs(self.page.content,'html.parser')\n",
    "        self.f=open('solution.txt','w')\n",
    "        self.answer=self.soup.find_all('div',class_='s-prose js-post-body')\n",
    "        try:\n",
    "            for i in range(1,4):\n",
    "                self.f.write(self.answer[i].text)\n",
    "\n",
    "                print((self.answer[i].text).strip())\n",
    "                print(\"***************\")\n",
    "                self.f.write(\"\\n\\n\\n**************\\n\\n\\n\")\n",
    "        except IndexError:\n",
    "            print(\"Number of answers are less than 3\")\n",
    "        finally:\n",
    "            self.f.close()\n"
   ]
  },
  {
   "cell_type": "code",
   "execution_count": null,
   "metadata": {},
   "outputs": [],
   "source": []
  },
  {
   "cell_type": "code",
   "execution_count": null,
   "metadata": {},
   "outputs": [],
   "source": []
  },
  {
   "cell_type": "code",
   "execution_count": null,
   "metadata": {},
   "outputs": [],
   "source": []
  }
 ],
 "metadata": {
  "language_info": {
   "name": "python"
  },
  "orig_nbformat": 4
 },
 "nbformat": 4,
 "nbformat_minor": 2
}
