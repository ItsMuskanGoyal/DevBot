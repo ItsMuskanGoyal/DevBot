{
 "cells": [
  {
   "cell_type": "code",
   "execution_count": null,
   "metadata": {},
   "outputs": [],
   "source": [
    "# !pip install discord\n",
    "# !pip install git+https://github.com/huggingface/transformers.git@main \n",
    "# accelerate"
   ]
  },
  {
   "cell_type": "code",
   "execution_count": null,
   "metadata": {},
   "outputs": [],
   "source": [
    "import discord\n",
    "import nest_asyncio\n",
    "from googlesearch import search\n",
    "from bs4 import BeautifulSoup as bs\n",
    "import requests\n",
    "import random\n",
    "\n",
    "# TOKEN = \"MTE1NzM4Mjk2NDg2NzUwMjEwMA.G5jMbD.ujArNMUu30t7Ki2AtvTIl8D5dBv_B4hZAfkHv8\"\n",
    "TOKEN=\"MTE1OTQxNDUzMzkyMDY2MTUyNA.G13X5g.XbjZyZTk6xegMOZP_eHAe_xEqDbWDtjAk-XXNQ\"\n",
    "nest_asyncio.apply()"
   ]
  },
  {
   "cell_type": "code",
   "execution_count": null,
   "metadata": {},
   "outputs": [],
   "source": [
    "from transformers import AutoTokenizer\n",
    "import transformers\n",
    "import torch\n",
    "\n",
    "model = \"codellama/CodeLlama-7b-hf\"\n",
    "\n",
    "tokenizer = AutoTokenizer.from_pretrained(model)\n",
    "pipeline = transformers.pipeline(\n",
    "    \"text-generation\",\n",
    "    model=model,\n",
    "    torch_dtype=torch.float16,\n",
    "    device_map=\"auto\",\n",
    ")"
   ]
  },
  {
   "cell_type": "code",
   "execution_count": null,
   "metadata": {},
   "outputs": [],
   "source": []
  }
 ],
 "metadata": {
  "language_info": {
   "name": "python"
  },
  "orig_nbformat": 4
 },
 "nbformat": 4,
 "nbformat_minor": 2
}
